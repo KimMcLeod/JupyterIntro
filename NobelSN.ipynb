{
 "cells": [
  {
   "cell_type": "markdown",
   "metadata": {},
   "source": [
    "# Nobel Nobility\n",
    "\n",
    "In this assignment you will use a state-of-the-art compilation of SN Ia data to explore how we explore the expansion history of the Universe.\n",
    "\n",
    "### Along the way you will\n",
    "-- practice applying python and astrophysical concepts from previous assignments\n",
    "\n",
    "-- learn a new trick or two about Python arrays\n",
    "\n",
    "-- learn to integrate an equation with Python\n",
    "\n",
    "-- access a paper from the primary literature through the NASA ADS and connect it to your work\n",
    "\n",
    "-- communicate your work in the form of a well-crafted jupyter notebook\n",
    "\n",
    "### What you will need\n",
    "These instructions as a roadmap, your two previous jupyter notebooks for reference, and the text file https://www.dropbox.com/s/m6bllk8zqvpml2z/SNdata2.txt?dl=0 which is a compilation of supernova data from Amanullah et al. 2010, ApJ, 716, 1.  \n",
    "\n",
    "To find this paper, first introduce yourself to the NASA ADS Abstract service here http://adsabs.harvard.edu/abstract_service.html\n",
    "and put in the author search box ^Amanullah  (the ^ means only choose papers where that author is the first one).  When you do the search you can look through the list to find the right paper, then click on the E to see the whole electronic version or F for a pdf of the full text.\n",
    "\n",
    "\n",
    "\n",
    "# Part I: Where is the Universe going?\n",
    "## Introduction \n",
    "\n",
    "Write one!  Include the source of the data with complete paper reference (author(s), year, journal, volume, page)\n"
   ]
  },
  {
   "cell_type": "code",
   "execution_count": null,
   "metadata": {
    "collapsed": false
   },
   "outputs": [],
   "source": [
    "# imports\n",
    "import math\n",
    "import numpy as np\n",
    "import matplotlib\n",
    "import matplotlib.pyplot as plt\n",
    "%matplotlib inline\n",
    "\n",
    "# constants\n",
    "H0 = 70  # km/s/Mpc\n",
    "Msn = -19.3  # absolute magnitude of type Ia SN from the paper\n",
    "\n",
    "\n",
    "\n",
    "\"\"\"\n",
    "Read in the data file and assign arrays\n",
    "\n",
    "    the first column is bad news for arrays--it's a text column and we can ignore it\n",
    "    which we do with the parameter usecols (see if you can understand what it does)\n",
    "\n",
    "    the other columns, which you should turn into arrays, are\n",
    "        z\n",
    "        B (the apparent magnitude aka m measured through the B filter)\n",
    "        Be (the uncertainty in the apparent magnitude)\n",
    "\"\"\"\n",
    "a=np.genfromtxt('YOURPATHHERE',usecols=(1,2,3),unpack=True)\n",
    "\n",
    "\n",
    "\n",
    "\"\"\"\n",
    "Plot z v. the distance modulus and check against the top part of Figure 9 from the paper\n",
    "    (if you had no figure to check against, you might have done a \"sanity check\" by checking\n",
    "    that the z=1 distance modulus matches that which you computed in HW#3)\n",
    "\"\"\"\n",
    "\n"
   ]
  },
  {
   "cell_type": "code",
   "execution_count": null,
   "metadata": {
    "collapsed": false
   },
   "outputs": [],
   "source": [
    "\"\"\"\n",
    "Plot z v. distance modulus again, but this time on your plot show the z on a log axis\n",
    "    To do this, there are some new matplotlib commands to try out following\n",
    "    this example.\n",
    "\"\"\"\n",
    "from matplotlib.ticker import ScalarFormatter\n",
    "\n",
    "# Plot the x-axis as log10 this time\n",
    "plt.plot(z, distmod, 'b*')\n",
    "\n",
    "ax = plt.gca()        # get current axis handles and assign them to a variable\n",
    "ax.set_xscale(\"log\")  # make the x axis logarithmic\n",
    "ax.xaxis.set_major_formatter(ScalarFormatter())   # make the labels real numbers without exponential notation\n",
    "\n",
    "plt.title(\"Supernova Ia Hubble Diagram\")\n",
    "plt.xlabel(\"z\")\n",
    "plt.ylabel(\"distance modulus m-M\")"
   ]
  },
  {
   "cell_type": "markdown",
   "metadata": {},
   "source": [
    "### Interpret your above \"Hubble Diagram\"\n",
    "\n",
    "Compare your plot to the one recreating the Nobel version at the bottom of this page\n",
    "    https://www.learner.org/courses/physics/unit/text.html?unit=11&secNum=4\n",
    "    \n",
    "Note that the highest measured supernova at that time was z<1.  How many z >= 1 supernovae are on your plot?  Explain how you counted."
   ]
  },
  {
   "cell_type": "code",
   "execution_count": null,
   "metadata": {
    "collapsed": false
   },
   "outputs": [],
   "source": [
    "\"\"\"\n",
    "Plot a Hubble diagram in units we can compare to the ASTR 101 Hubble diagram, namely\n",
    "x axis: distance in Mpc\n",
    "  first compute the luminosity distance directly from the distance modulus, then correct to get the \"real\" d\n",
    "y axis: cz expressed in km/s\n",
    "\n",
    "\n",
    "Add the theoretical line showing the redshift distance d = cz/Ho\n",
    "    Hint: look at our first python notebook to remind yourself what np.arange does.\n",
    "    (The points won't lie on the theoretical line...)\n",
    "\"\"\"\n",
    "\n",
    "\n"
   ]
  },
  {
   "cell_type": "markdown",
   "metadata": {},
   "source": [
    "## Interpretation\n",
    "\n",
    "\n",
    "Offer up a narrative interpretation of your final Hubble Diagram.  Why do we not get upset when the \"velocity\" is greater than the speed of light?  The redshift distance does not match the luminosity distance at high z.  What assumptions do we make when compute a distance based on the redshift?  What assumptions do we make when we compute a distance based on the apparent magnitude?  What might be an explanation for the deviation from the theoretical relation?\n",
    "\n",
    "## Saving and turning in your jupyter notebook\n",
    "When your notebook is all cleaned up and ready to turn in, save it, download it as a Notebook (ipynb), shut down Jupyter, and turn in your ipynb by uploading to our Google Drive Nobel folder.\n"
   ]
  },
  {
   "cell_type": "markdown",
   "metadata": {},
   "source": [
    "# Part II: relativistic cosmology!\n",
    "\n",
    "Now that you have sucessfully implemented Part I and determined that the Universe must be accelerating, you will use the Friedmann equations (which are solutions to the General Relativistic equations of cosmology) to show that our current \"favorite model\" of cosmology is a good match to the SNIa data.  \n",
    "\n",
    "In class we found that the Friedmann equations for a flat universe give the \"proper distance\" (which was called the \"real distance\" in the Astr 101 version of the plot above) in a Flat U. as\n",
    "\n",
    "    d_proper = c/H0 * xi(z) \n",
    "\n",
    "where xi(z) = integral from 0 to z of the integrand      \n",
    "\n",
    "    dz / [Omega_M (1+z)**3 + Omega_L]**1/2\n",
    "\n",
    "note in a flat U Omega_m + Omega_L = 1\n",
    "\n",
    "\n",
    "Your mission is to add a code block that reproduces the last plot above, and then plots on top of it the theoretical distance d_proper as a function of z for the current favorite U with   Omega_m = 0.3, Omega_L = 0.7\n",
    "\n",
    "Hints: \n",
    "1) You can make use of the scipy package's integrate package, and in particular the quad function\n",
    "    The syntax for quad is \n",
    "        quad(func, a, b, args=())\n",
    "\n",
    "    To see how it works, try out the following code, then try to make your own code block to do the job\n",
    "\n",
    "2) You will have to use a control structure like a for loop to compute the integral for EACH of the z's in your array"
   ]
  },
  {
   "cell_type": "code",
   "execution_count": null,
   "metadata": {
    "collapsed": false
   },
   "outputs": [],
   "source": [
    "from scipy import integrate \n",
    "\n",
    "x = np.linspace(0,100,51)\n",
    "constant = 5\n",
    "\n",
    "def x_squared(blah,constant):\n",
    "    return(constant * blah**2)\n",
    "\n",
    "my_integral = integrate.quad (x_squared, 0, 60, args=(constant))[0] # the [0] is because quad returns 2 values\n",
    "                                                                    #  and we only want the first, the integral itself\n",
    "\n",
    "print (x)\n",
    "print (my_integral)\n",
    "\n",
    "print (5 * 60**3 / 3.)"
   ]
  },
  {
   "cell_type": "code",
   "execution_count": null,
   "metadata": {
    "collapsed": false
   },
   "outputs": [],
   "source": [
    "from scipy import integrate         # load the package that contains the integration function )called quad)\n",
    "\n",
    "# define your useful constants\n",
    "Omega_M =    #\n",
    "Omega_L =    #\n",
    "\n",
    "\n",
    "# define the integrand for xi\n",
    "def xi_integrand(z,Omega_M, Omega_L):\n",
    "    the_integrand =     # put your integrand here\n",
    "    return()     # put the thing that the function should return here\n",
    "\n",
    "\n",
    "# set up theoretical array of redshifts.  You might already have this from above.\n",
    "\n",
    "\n",
    "# set up an empty array that will hold the xi values for each redshift.  It should have the same number of\n",
    "#   elements as your redshift array.  Hint: np.zeros, len()\n",
    "\n",
    "\n",
    "# set up a loop to compute the integral for each z in your z redshift array\n",
    "\n",
    "\n",
    "# compute the proper distance from the array containing xi\n",
    "\n",
    "\n",
    "# reproduce the above plot an put the new curve on it\n",
    "\n"
   ]
  },
  {
   "cell_type": "markdown",
   "metadata": {},
   "source": [
    "# Optional Challenge problems\n",
    "\n",
    "Optional challenge #0: put a legend on your plot\n",
    "\n",
    "Optional challenge #1: plot either the \"ASTR 101 version\" or the SNIa distance modulus (Nobel Prize version) with any other FLAT U with your choice of Omegas and H0.\n",
    "\n",
    "Optional challenge #2: integrate the equation for some NON-FLAT U that represents our U without dark matter or dark energy."
   ]
  }
 ],
 "metadata": {
  "kernelspec": {
   "display_name": "Python 2",
   "language": "python",
   "name": "python2"
  },
  "language_info": {
   "codemirror_mode": {
    "name": "ipython",
    "version": 2
   },
   "file_extension": ".py",
   "mimetype": "text/x-python",
   "name": "python",
   "nbconvert_exporter": "python",
   "pygments_lexer": "ipython2",
   "version": "2.7.11"
  }
 },
 "nbformat": 4,
 "nbformat_minor": 2
}
