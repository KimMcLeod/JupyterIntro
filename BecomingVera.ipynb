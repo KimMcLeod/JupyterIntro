{
 "cells": [
  {
   "cell_type": "markdown",
   "metadata": {},
   "source": [
    "# Becoming Vera Rubin : a two-act performance\n",
    "\n",
    "In this assignment you will use one of Vera Rubin's own early data sets to plot a galaxy rotation curve...and to see where it leads!\n",
    "\n",
    "### Along the way you will\n",
    "\n",
    "-- practice applying python and astrophysical concepts you saw previously in the MilkyWayMonster assignment\n",
    "\n",
    "-- learn a new trick or two about using python arrays\n",
    "\n",
    "-- learn how to do a numerical integral\n",
    "\n",
    "-- look at a paper from the primary literature and connect it to your work\n",
    "\n",
    "-- communicate your work in the form of a well-crafted jupyter notebook\n",
    "\n",
    "\n",
    "### What you will need\n",
    "0) these instructions as a roadmap, and your two previous jupyter notebooks for reference\n",
    "\n",
    "1) the text file https://www.dropbox.com/s/8zi8ai7q91q69cs/Rubin1977_Table.txt?dl=0 \n",
    "which contains data from Table 1 of Rubin, Thonnard, and Ford 1977. You should look through\n",
    "the paper itself to see what the data represent.  Find it at http://adsabs.harvard.edu/abs/1977ApJ...217L...1R .\n",
    "\n",
    "2) time (give yourself plenty)\n",
    "\n",
    "3) the good habit of saving your file often!"
   ]
  },
  {
   "cell_type": "markdown",
   "metadata": {},
   "source": [
    "# Part I -- the rotation curve of NGC 3672\n",
    "## Intro\n",
    "Yourname here\n",
    "\n",
    "Date here \n",
    "\n",
    "Here goes a description of your goals, sources of data, and methods.   You'll want to add this when you know what you did!\n",
    "\n",
    "\n",
    "## Plotting the \"raw\" velocity"
   ]
  },
  {
   "cell_type": "code",
   "execution_count": 5,
   "metadata": {
    "collapsed": false
   },
   "outputs": [
    {
     "ename": "NameError",
     "evalue": "name '_____' is not defined",
     "output_type": "error",
     "traceback": [
      "\u001b[0;31m\u001b[0m",
      "\u001b[0;31mNameError\u001b[0mTraceback (most recent call last)",
      "\u001b[0;32m<ipython-input-5-b04236a248e3>\u001b[0m in \u001b[0;36m<module>\u001b[0;34m()\u001b[0m\n\u001b[1;32m      8\u001b[0m \u001b[0;34m\u001b[0m\u001b[0m\n\u001b[1;32m      9\u001b[0m \u001b[0;31m# Constants  (add more as necessary to keep code readable)\u001b[0m\u001b[0;34m\u001b[0m\u001b[0;34m\u001b[0m\u001b[0m\n\u001b[0;32m---> 10\u001b[0;31m \u001b[0md_Mpc\u001b[0m \u001b[0;34m=\u001b[0m \u001b[0m_____\u001b[0m   \u001b[0;31m# distance to the galaxy from paper, look in second sentence of Section III\u001b[0m\u001b[0;34m\u001b[0m\u001b[0m\n\u001b[0m\u001b[1;32m     11\u001b[0m \u001b[0;34m\u001b[0m\u001b[0m\n\u001b[1;32m     12\u001b[0m \u001b[0;34m\u001b[0m\u001b[0m\n",
      "\u001b[0;31mNameError\u001b[0m: name '_____' is not defined"
     ]
    }
   ],
   "source": [
    "# Do your imports and set up to plot in the notebook\n",
    "import math\n",
    "import numpy as np\n",
    "import matplotlib\n",
    "import matplotlib.pyplot as plt\n",
    "%matplotlib inline\n",
    "    \n",
    "    \n",
    "# Constants  (add more as necessary to keep code readable)\n",
    "d_Mpc = _____   # distance to the galaxy from paper, look in second sentence of Section III\n",
    "\n",
    "\n",
    "\n",
    "# Read in the data table and make arrays in nice astronomy units\n",
    "data = np.genfromtxt(\"/YOURPATHNAME/YOURTABLENAME.txt\", unpack=True)   # YOURS here!\n",
    "\"\"\"\n",
    "    From data, make arrays a_arcsec (angular distance along the major axis) and v_kms (rotational velocity)\n",
    "\"\"\"\n",
    "\n",
    "\n",
    "# Remember: run code cells along the way and test print your variables to make sure they make sense!\n",
    "\n",
    "\n",
    "# Plot the raw velocity curve as a (kpc) vs v (km/s)\n",
    "\"\"\"\n",
    "    Notes: \n",
    "    \n",
    "    In the case of galaxies it makes more sense to express distances in kpc instead of au.\n",
    "    \n",
    "    While it is fine to make a new array to hold a_kpc, when you get into \n",
    "    big-time computing you'll find that this gets computationally expensive.  Another \n",
    "    approach is to do the conversion right in your plot statement!  For example, if I had \n",
    "    an array x in cm and I wanted to plot x in meters I could do something like   \n",
    "        plt.plot(x/100., y)\n",
    "    or better yet, to make my code readable I might set cm_to_m = 100. and then \n",
    "        plt.plot(x/cm_to_m, y)\n",
    "\"\"\"\n"
   ]
  },
  {
   "cell_type": "markdown",
   "metadata": {},
   "source": [
    "## Interpreting the plot\n",
    "Check to make sure that your plot looks like the top of Figure 3 from the paper!  Explain in a sentence or two what the plot represents/shows.\n",
    "\n",
    "\n",
    "## Determining the systemic velocity\n",
    "Use your plot or data to estimate the systemic velocity. \n",
    "\n",
    "Hints:\n",
    "\n",
    "-- If you are using the plot, try using the command plt.xlim and/or plt.ylim to show a close-up view of \n",
    "    the part you're interested in.  Try this example to see what it does:   plt.xlim(4, 15) \n",
    "    A full list of commands for matplotlib plots is at http://matplotlib.org/api/pyplot_summary.html\n",
    "    \n",
    "-- If you are using the data you might find a print statement helpful\n",
    "\n",
    "-- Check your estimate of the systemic velocity against the value listed in the first sentence of Section \n",
    "    III of the paper!\n",
    "\n",
    "\n",
    "## Plotting the rotation curve with systemic velocity removed\n",
    "Make a new plot that represents the velocity due to rotation only. "
   ]
  },
  {
   "cell_type": "code",
   "execution_count": null,
   "metadata": {
    "collapsed": false
   },
   "outputs": [],
   "source": [
    "# Rotation curve plot\n"
   ]
  },
  {
   "cell_type": "markdown",
   "metadata": {},
   "source": [
    "# End of Part I\n",
    "\n",
    "## You do NOT need to turn in your notebook for Part I.  Instead screenshot your final rotation curve and email it to me so that I can see if you're on the right track.\n",
    "\n",
    "\n",
    "\n",
    "\n",
    "\n",
    "# Part II -- coming soon"
   ]
  },
  {
   "cell_type": "markdown",
   "metadata": {
    "collapsed": true
   },
   "source": [
    "## Saving and turning in your jupyter notebook\n",
    "When your notebook is all cleaned up and ready to turn in\n",
    "\n",
    "### ... save it\n",
    "Click the icon representing an old time 3.5 inch floppy disk.\n",
    "\n",
    "### ...download it\n",
    "use File --> Download as --> Notebook (ipynb)\n",
    "\n",
    "### ...shut down jupyter\n",
    "To close your notebook, do File-->Close and Halt. Closing your web browser does NOT shut down jupyter. To do it, close the terminal/command line window that opened when you launched jupyter.\n",
    "\n",
    "### ...turn in your ipynb by uploading it to our Google Drive Monster folder\n"
   ]
  },
  {
   "cell_type": "code",
   "execution_count": null,
   "metadata": {
    "collapsed": true
   },
   "outputs": [],
   "source": []
  }
 ],
 "metadata": {
  "kernelspec": {
   "display_name": "Python 2",
   "language": "python",
   "name": "python2"
  },
  "language_info": {
   "codemirror_mode": {
    "name": "ipython",
    "version": 2
   },
   "file_extension": ".py",
   "mimetype": "text/x-python",
   "name": "python",
   "nbconvert_exporter": "python",
   "pygments_lexer": "ipython2",
   "version": "2.7.11"
  }
 },
 "nbformat": 4,
 "nbformat_minor": 2
}
