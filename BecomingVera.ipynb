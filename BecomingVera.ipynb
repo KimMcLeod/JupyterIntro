{
 "cells": [
  {
   "cell_type": "markdown",
   "metadata": {},
   "source": [
    "# Becoming Vera Rubin : a two-act performance\n",
    "\n",
    "In this assignment you will use one of Vera Rubin's own early data sets to plot a galaxy rotation curve...and to see where it leads!\n",
    "\n",
    "### Along the way you will\n",
    "\n",
    "-- practice applying python and astrophysical concepts you saw previously in the MilkyWayMonster assignment\n",
    "\n",
    "-- learn a new trick or two about using python arrays\n",
    "\n",
    "-- look at a paper from the primary literature and connect it to your work\n",
    "\n",
    "-- communicate your work in the form of a well-crafted jupyter notebook\n",
    "\n",
    "\n",
    "### What you will need\n",
    "0) these instructions as a roadmap, and your two previous jupyter notebooks for reference\n",
    "\n",
    "1) the text file https://www.dropbox.com/s/8zi8ai7q91q69cs/Rubin1977_Table.txt?dl=0 \n",
    "which contains data from Table 1 of Rubin, Thonnard, and Ford 1977. You should look through\n",
    "the paper itself to see what the data represent.  Find it at http://adsabs.harvard.edu/abs/1977ApJ...217L...1R .\n",
    "\n",
    "2) time (give yourself plenty)\n",
    "\n",
    "3) the good habit of saving your file often!"
   ]
  },
  {
   "cell_type": "markdown",
   "metadata": {},
   "source": [
    "# Part I -- the rotation curve of NGC 3672\n",
    "## Intro\n",
    "Yourname here\n",
    "\n",
    "Date here \n",
    "\n",
    "Here goes a description of your goals, sources of data, and methods.   You'll want to add this when you know what you did!\n",
    "\n",
    "\n",
    "## Plotting the \"raw\" velocity"
   ]
  },
  {
   "cell_type": "code",
   "execution_count": null,
   "metadata": {
    "collapsed": false
   },
   "outputs": [],
   "source": [
    "# Remember: run tests along the way to see if your variables make sense.\n",
    "# And, always label and interpret plots!\n",
    "\n",
    "# Do your imports and set up to plot in the notebook\n",
    "import math\n",
    "import numpy as np\n",
    "import matplotlib\n",
    "import matplotlib.pyplot as plt\n",
    "%matplotlib inline\n",
    "    \n",
    "    \n",
    "# Constants  (add more as necessary to keep code readable)\n",
    "d_Mpc = __   # distance to the galaxy from paper, look in second sentence of Section III\n",
    "\n",
    "# Read in the data table and make arrays in nice astronomy units\n",
    "data = np.genfromtxt(\"PUT YOUR path and file name here\", unpack=True)   # YOURS here!\n",
    "\"\"\"\n",
    "    From data, make arrays to hold distance along the major axis and rotational velocity.\n",
    "     \n",
    "    Note: Inside galaxies it makes more sense to express distances in kpc instead of au.\n",
    "\n",
    "\"\"\"\n",
    "\n",
    "\n",
    "# Plot the raw velocity curve as a (kpc) vs v (km/s)\n"
   ]
  },
  {
   "cell_type": "markdown",
   "metadata": {},
   "source": [
    "## Interpreting the plot\n",
    "Check to make sure that your plot looks like the top of Figure 3 from the paper!  Explain in a sentence or two what the plot represents/shows.\n",
    "\n",
    "\n",
    "## Determining the systemic velocity\n",
    "Use your plot or data to estimate the systemic velocity. \n",
    "\n",
    "Hints:\n",
    "\n",
    "-- If you are using the plot, try using the command plt.xlim and/or plt.ylim to show a close-up view of the part you're interested in.  Try this example to see what it does:   plt.xlim(4, 15)     A full list of commands for matplotlib plots is at http://matplotlib.org/api/pyplot_summary.html\n",
    "    \n",
    "-- If you are using the data you might find a print statement helpful\n",
    "\n",
    "-- Check your estimate of the systemic velocity against the value listed in the first sentence of Section III of the paper!\n",
    "\n",
    "\n",
    "## Plotting the rotation curve with systemic velocity removed\n",
    "Make a new plot that represents the velocity due to rotation only. "
   ]
  },
  {
   "cell_type": "code",
   "execution_count": null,
   "metadata": {
    "collapsed": false
   },
   "outputs": [],
   "source": [
    "# Rotation curve plot\n"
   ]
  },
  {
   "cell_type": "markdown",
   "metadata": {},
   "source": [
    "# End of Part I\n",
    "\n",
    "## You do NOT need to turn in your notebook for Part I.  Instead screenshot your final rotation curve and email it to me so that I can see if you're on the right track.\n",
    "\n",
    "\n",
    "# ================================================\n",
    "\n",
    "\n",
    "\n",
    "# Part II -- the mass distribution in NGC 3672\n",
    "Remember to label all plots clearly and to follow each with a narrative interpretation in the form of a markdown cell.\n",
    "\n",
    "## Combine the NE and SW data and plot resulting rotation curve\n",
    "\n",
    "The goal here is to create two new arrays for use in our mass calculations:  one will represent the distance from the center (as a positive number, in kpc) sorted from smallest to biggest, and the other will represent the speed of rotation (as a positive number, in km/s) **sorted so that it matches up with the position array** (so that nth element of both represents the same gas).  \n",
    "\n",
    "For this we'll use several new python functions.\n",
    "\n",
    " -- np.abs(x) returns an array containing the absolute values of the elements of array x\n",
    "\n",
    " -- np.argsort(x) returns an \"index array\" containing the indices in the order that they would have to be to sort the elements of x from lowest to highest\n",
    "\n",
    " -- if y is an index array, then x[y] returns an array that has the elements of x sorted in the order given by the index array"
   ]
  },
  {
   "cell_type": "code",
   "execution_count": null,
   "metadata": {
    "collapsed": false
   },
   "outputs": [],
   "source": [
    "# Example of abs and argsort -- run to see what they do\n",
    "# import numpy as np         #  uncomment if it is not already imported\n",
    "\n",
    "testx = np.array([10,50,20,40,90,80])\n",
    "print np.argsort(testx)\n",
    "\n",
    "testy = np.array([  1, -20,  3, -4, -50,  6])\n",
    "print testy[np.argsort(testx)]\n",
    "print np.abs(testy)\n",
    "\n"
   ]
  },
  {
   "cell_type": "code",
   "execution_count": null,
   "metadata": {
    "collapsed": false
   },
   "outputs": [],
   "source": [
    "# The first thing you will want to do is to make an array a_kpc if you didn't already\n",
    "#   I'm sorry I recommended against it before...next year I'll not give that bad advice!\n",
    "\n",
    "\n",
    "# Next, use abs and argsort to make arrays for distance from the center of the galaxy (kpc) \n",
    "#   and rotational velocity (km/s) that are positive and matched so that the \n",
    "\n",
    "\n",
    "# Plot the new rotation curve with these arrays.  It should look like one of the curves in \n",
    "#   Figure 4 of the paper!\n"
   ]
  },
  {
   "cell_type": "markdown",
   "metadata": {},
   "source": [
    "## Plot the total mass enclosed within each distance from the center\n",
    "Here you will have to make use of the physics results from class...there's a handy formula that Isaac Newton had to invent integral calculus to derive!"
   ]
  },
  {
   "cell_type": "code",
   "execution_count": null,
   "metadata": {
    "collapsed": false
   },
   "outputs": [],
   "source": [
    "# Plot the total mass enclosed within each distance from the center.\n"
   ]
  },
  {
   "cell_type": "markdown",
   "metadata": {},
   "source": [
    "## Interpretation\n",
    "Offer up a narrative interpretation.  Here are some questions to get you started.\n",
    "\n",
    "  -- What does your final plot yield for the total mass of this galaxy out to 18kpc?  You can check your answer by comparing with the value in Section III of the paper.\n",
    "  \n",
    "  -- If each star is about sun-sized, how many stars does this represent?  Compare to Monty's estimate for our Milky Way \"...contains a hundred billion stars...\"\n",
    "  \n",
    "  -- Your mass enclosed plot should look more or less like a straight line outside of a few kpc, but there is some scatter.  Explain why we would expect to see a scatter.  \n",
    "  \n",
    "  -- About that straight line outside a few kpc...why does it yield a flat rotation curve?  Can you explain with a formula?"
   ]
  },
  {
   "cell_type": "markdown",
   "metadata": {
    "collapsed": true
   },
   "source": [
    "## Saving and turning in your jupyter notebook\n",
    "When your notebook is all cleaned up and ready to turn in\n",
    "\n",
    "### ... save it\n",
    "Click the icon representing an old time 3.5 inch floppy disk.\n",
    "\n",
    "### ...download it\n",
    "use File --> Download as --> Notebook (ipynb)\n",
    "\n",
    "### ...shut down jupyter\n",
    "To close your notebook, do File-->Close and Halt. Closing your web browser does NOT shut down jupyter. To do it, close the terminal/command line window that opened when you launched jupyter.\n",
    "\n",
    "### ...turn in your ipynb by uploading it to our Google Drive Monster folder\n"
   ]
  }
 ],
 "metadata": {
  "kernelspec": {
   "display_name": "Python 2",
   "language": "python",
   "name": "python2"
  },
  "language_info": {
   "codemirror_mode": {
    "name": "ipython",
    "version": 2
   },
   "file_extension": ".py",
   "mimetype": "text/x-python",
   "name": "python",
   "nbconvert_exporter": "python",
   "pygments_lexer": "ipython2",
   "version": "2.7.11"
  }
 },
 "nbformat": 4,
 "nbformat_minor": 2
}
