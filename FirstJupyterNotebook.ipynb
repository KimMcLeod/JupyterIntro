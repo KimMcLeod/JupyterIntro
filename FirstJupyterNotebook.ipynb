{
 "cells": [
  {
   "cell_type": "markdown",
   "metadata": {},
   "source": [
    "# Creating your first jupyter notebook for SCIENCE\n",
    "Once you have Python installed, you can create your first jupyter notebook.  A jupyter notebook is a place where you can keep not only python code, but also output and helpful accompanying text to communicate your work to others...or your future self when you need to write up that scientific journal article based on your work!"
   ]
  },
  {
   "cell_type": "markdown",
   "metadata": {},
   "source": [
    "## Start jupyter\n",
    "If you have Anaconda: Launcher --> choose jupyter\n",
    "\n",
    "If you have Canopy: Tools --> Canopy Terminal --> type    jupyter notebook\n",
    "\n",
    "In either case your web browser should pop open and you should see your Home diretory."
   ]
  },
  {
   "cell_type": "markdown",
   "metadata": {},
   "source": [
    "## Create a new notebook \n",
    "New --> Python 2\n",
    "\n",
    "This will open a new tab containing a blank Untitled notebook. Go up top and give it a real name!"
   ]
  },
  {
   "cell_type": "markdown",
   "metadata": {},
   "source": [
    "## Try writing some code!\n",
    "Your notebook will have a blank \"cell\" called In [ ].  Note on the toolbar that this cell is designated as type 'Code' -- in this case, Python.  Try it out by following this example.  Type the code in the cell, then go up to the top and hit the Run button (looks like >|)."
   ]
  },
  {
   "cell_type": "code",
   "execution_count": null,
   "metadata": {
    "collapsed": false,
    "scrolled": true
   },
   "outputs": [],
   "source": [
    "# my first code!\n",
    "\n",
    "x=6.0           \n",
    "y=7.0\n",
    "print x, \" * \", y, \" = \", x*y\n",
    "\n",
    "n=3\n",
    "for i in range(n):\n",
    "    print('Finally I learned something useful in ASTR class!')\n",
    "    "
   ]
  },
  {
   "cell_type": "markdown",
   "metadata": {},
   "source": [
    "The output appears right in your notebook.  Are you happy?  Are you even happier now?  Go up and change n to a bigger number and re-run the cell to see what happens."
   ]
  },
  {
   "cell_type": "markdown",
   "metadata": {},
   "source": [
    "## Use a code cell as a handy calculator\n",
    "Insert a new cell of type 'Code' then in it you can do calculations right there...try this and then run the cell."
   ]
  },
  {
   "cell_type": "code",
   "execution_count": null,
   "metadata": {
    "collapsed": false
   },
   "outputs": [],
   "source": [
    "2./5"
   ]
  },
  {
   "cell_type": "markdown",
   "metadata": {},
   "source": [
    "## Learn how to use a \"markdown\" cell\n",
    "If you want to add explanations to your notebook, click in a blank cell and change its type from 'Code' to 'Markdown' using the chooser at the top.  Then try typing in a sentence, and hit 'Run'.  You can always click in the cell again to edit.\n",
    "\n",
    "If you want to add headings to your markdown, use # at the beginning of the line.  You need a space after the # and before your heading. One # is a huge heading, two ## is a smaller one, and so forth.\n",
    "\n",
    "Markdown cells are where you will be explaining what you're doing to the reader of your notebook!"
   ]
  },
  {
   "cell_type": "markdown",
   "metadata": {},
   "source": [
    "## Explore numpy arrays and notice how your instructor is modeling good commenting\n",
    "Start a new code cell.  Type in the code below and Run it to see what you learn.  You can also hit Run at various points as you go along--try it after you add each print statement and study what happens."
   ]
  },
  {
   "cell_type": "code",
   "execution_count": 2,
   "metadata": {
    "collapsed": false
   },
   "outputs": [
    {
     "name": "stdout",
     "output_type": "stream",
     "text": [
      "here is a boring array  [ 0.  0.  0.  0.  0.]\n",
      "a = [0 1 2 3 4 5 6 7 8 9] is an integer array\n",
      "af = [ 0.  1.  2.  3.  4.  5.  6.  7.  8.  9.] is a float array\n",
      "sin(af)= [ 0.          0.84147098  0.90929743  0.14112001 -0.7568025  -0.95892427\n",
      " -0.2794155   0.6569866   0.98935825  0.41211849]\n",
      "b = [100 120 140 160 180]\n",
      "The 4th element of b is 160\n",
      "c =  [ 0.    0.05  0.1   0.15  0.2   0.25  0.3   0.35  0.4   0.45  0.5   0.55\n",
      "  0.6   0.65  0.7   0.75  0.8   0.85  0.9   0.95]\n",
      "bigarray = [[  0   1   2   3   4   5   6   7   8   9]\n",
      " [  0   1   4   9  16  25  36  49  64  81]\n",
      " [  0   1   8  27  64 125 216 343 512 729]]\n",
      "bigarray[2]= [  0   1   8  27  64 125 216 343 512 729]\n"
     ]
    }
   ],
   "source": [
    "# import numpy to let us use arrays and give it a nickname\n",
    "import numpy as np\n",
    "\n",
    "# make an array filled with zeros\n",
    "boring = np.zeros(5)                \n",
    "print \"here is a boring array \",boring\n",
    "\n",
    "# numpy.arange([start, ]stop, [step, ]dtype=None)\n",
    "a = np.arange(10)\n",
    "af = np.arange(10,dtype=float)\n",
    "print \"a =\",a, \"is an integer array\"\n",
    "print \"af =\",af, \"is a float array\"\n",
    "print \"sin(af)=\", np.sin(af)              # example of doing math on an array\n",
    "\n",
    "b = np.arange(100,200,20)\n",
    "print \"b =\",b\n",
    "print 'The 4th element of b is',b[3]      # not a mistake! \"python arrays are zero-based\"\n",
    "\n",
    "# numpy.linspace(start, stop, num=50, endpoint=True, retstep=False, dtype=None)\n",
    "c = np.linspace(0.0, 1.0, num=20, endpoint=False, retstep=False, dtype=float)\n",
    "print \"c = \",c\n",
    "\n",
    "# example of a 2-d array\n",
    "bigarray = np.array([a,a**2,a**3])\n",
    "print \"bigarray =\",bigarray\n",
    "print \"bigarray[2]=\",bigarray[2]\n"
   ]
  },
  {
   "cell_type": "markdown",
   "metadata": {},
   "source": [
    "## Make your first plot!\n",
    "Make a new code cell.  This code cell assumes that you have already run the array code cell, so np is already imported.  Again, you can run whenever you want as you go along."
   ]
  },
  {
   "cell_type": "code",
   "execution_count": 6,
   "metadata": {
    "collapsed": false
   },
   "outputs": [
    {
     "name": "stderr",
     "output_type": "stream",
     "text": [
      "/Users/kmcleod/Library/Enthought/Canopy_64bit/User/lib/python2.7/site-packages/matplotlib/font_manager.py:273: UserWarning: Matplotlib is building the font cache using fc-list. This may take a moment.\n",
      "  warnings.warn('Matplotlib is building the font cache using fc-list. This may take a moment.')\n"
     ]
    },
    {
     "data": {
      "text/plain": [
       "<matplotlib.legend.Legend at 0x11562c750>"
      ]
     },
     "execution_count": 6,
     "metadata": {},
     "output_type": "execute_result"
    },
    {
     "data": {
      "image/png": "[encoded data removed]",
      "text/plain": [
       "<matplotlib.figure.Figure at 0x112273750>"
      ]
     },
     "metadata": {},
     "output_type": "display_data"
    }
   ],
   "source": [
    "# import the packages for all kinds of great mathy stuff and plotting, give the plotting one a nickname\n",
    "import matplotlib\n",
    "import matplotlib.pyplot as plt\n",
    "\n",
    "# show plots right in the jupyter notebook (comment out when you run your code in iPython)\n",
    "%matplotlib inline\n",
    "\n",
    "\n",
    "# define a function and make a graph!\n",
    "def cubeit(x):\n",
    "    return (x**3)\n",
    "\n",
    "a=np.arange(0,1,0.1,dtype=float)\n",
    "\n",
    "plt.plot(a, cubeit(a))\n",
    "plt.xlabel(\"a\")\n",
    "plt.ylabel(\"a bunch of functions of a\")\n",
    "plt.title(\"My first awesome graph\")\n",
    "\n",
    "plt.plot(a,a,\"r*\",label=\"a\")\n",
    "\n",
    "plt.plot(a,a**2,\"g--\",label=\"a squared\")\n",
    "\n",
    "plt.legend(loc=\"upper left\")"
   ]
  },
  {
   "cell_type": "markdown",
   "metadata": {},
   "source": [
    "## Learn how to read a data file\n",
    "Download the file https://www.dropbox.com/s/w0ssqvtocuuwv4j/sample_table.txt?dl=0 to your computer. Take a look at its format. \n",
    "\n",
    "This example assumes the file ended up being called  \n",
    "    /Users/kmcleod/Downloads/sample_table.txt where /Users/kmcleod/Downloads is the \"path\" to the file.  \n",
    "    You'll have to put your own path in the code below.  Start a new code cell and follow along."
   ]
  },
  {
   "cell_type": "code",
   "execution_count": 9,
   "metadata": {
    "collapsed": false
   },
   "outputs": [
    {
     "name": "stdout",
     "output_type": "stream",
     "text": [
      "[[  5.95000000e-01   1.25500000e-01   3.57000000e-01   6.57400000e-01\n",
      "    4.04700000e-01   2.72400000e-01   2.98700000e-01   2.64100000e-01\n",
      "    2.86300000e-01   3.55900000e-01   2.37900000e-01   5.20000000e-01\n",
      "    2.19000000e-01   1.31000000e+00   2.53000000e-01   9.44000000e-01\n",
      "    4.28000000e-01   4.49000000e-01   6.57000000e-01   1.41600000e-01\n",
      "    3.70000000e-01   9.50000000e-01   1.20000000e+00   1.07800000e-01\n",
      "    3.87700000e-01   1.50200000e+00   1.12600000e+00   9.73000000e-01\n",
      "    1.49000000e+00   4.60000000e+00   2.74000000e+00   1.08100000e+00\n",
      "    1.91700000e+00   1.49900000e+00   2.32000000e+00   1.12000000e+00\n",
      "    4.14000000e-01   1.81000000e+00   3.90000000e+00]\n",
      " [  2.40000000e-02   9.00000000e-04   3.70000000e-03   6.00000000e-04\n",
      "    1.40000000e-03   4.10000000e-03   1.80000000e-03   1.60000000e-03\n",
      "    3.60000000e-03   9.60000000e-03   1.50000000e-03   9.40000000e-02\n",
      "    1.70000000e-03   2.80000000e-01   1.20000000e-02   4.80000000e-02\n",
      "    1.90000000e-02   1.00000000e-02   2.60000000e-02   2.00000000e-04\n",
      "    1.50000000e-02   1.80000000e-01   8.70000000e-01   1.00000000e-03\n",
      "    7.00000000e-03   9.50000000e-02   2.60000000e-02   4.00000000e-02\n",
      "    1.90000000e-01   3.30000000e+00   1.60000000e-01   5.50000000e-02\n",
      "    8.90000000e-02   5.70000000e-02   4.60000000e-01   1.80000000e-01\n",
      "    3.90000000e-02   1.50000000e-01   1.40000000e+00]\n",
      " [  1.66000000e+02   1.60000000e+01   7.70000000e+01   1.92000000e+02\n",
      "    9.29000000e+01   5.13000000e+01   5.89000000e+01   4.90000000e+01\n",
      "    5.53000000e+01   7.66000000e+01   4.19000000e+01   1.35000000e+02\n",
      "    3.70000000e+01   5.40000000e+02   4.58000000e+01   3.31000000e+02\n",
      "    1.01000000e+02   1.08000000e+02   1.92000000e+02   1.92000000e+01\n",
      "    8.11000000e+01   3.35000000e+02   4.77000000e+02   1.28000000e+01\n",
      "    8.71000000e+01   6.64000000e+02   4.31000000e+02   3.46000000e+02\n",
      "    6.56000000e+02   3.58000000e+03   1.64000000e+03   4.06000000e+02\n",
      "    9.58000000e+02   6.62000000e+02   1.27000000e+03   4.26000000e+02\n",
      "    9.62000000e+01   8.77000000e+02   2.73000000e+03]\n",
      " [  5.80000000e+00   2.00000000e-02   1.00000000e+00   1.70000000e-01\n",
      "    4.10000000e-01   7.00000000e-01   2.20000000e-01   1.40000000e-01\n",
      "    4.80000000e-01   1.00000000e+00   1.80000000e-01   1.40000000e+01\n",
      "    2.80000000e-01   6.30000000e+01   1.60000000e+00   1.60000000e+01\n",
      "    2.00000000e+00   1.20000000e+00   5.20000000e+00   2.00000000e-02\n",
      "    1.50000000e+00   5.80000000e+01   1.99000000e+02   1.10000000e-01\n",
      "    1.40000000e+00   3.70000000e+01   1.00000000e+01   1.10000000e+01\n",
      "    6.90000000e+01   2.55000000e+03   1.05000000e+02   2.70000000e+01\n",
      "    5.00000000e+01   2.90000000e+01   3.09000000e+02   7.10000000e+01\n",
      "    5.00000000e+00   8.30000000e+01   1.35000000e+03]]\n"
     ]
    },
    {
     "data": {
      "text/plain": [
       "[<matplotlib.lines.Line2D at 0x115b36f90>]"
      ]
     },
     "execution_count": 9,
     "metadata": {},
     "output_type": "execute_result"
    },
    {
     "data": {
      "image/png": "[encoded data removed]",
      "text/plain": [
       "<matplotlib.figure.Figure at 0x1157ea610>"
      ]
     },
     "metadata": {},
     "output_type": "display_data"
    }
   ],
   "source": [
    "mydata = np.genfromtxt(\"/Users/kmcleod/Downloads/sample_table.txt\", unpack=True)\n",
    "print mydata\n",
    "a = mydata[0]\n",
    "P = mydata[3]\n",
    "plt.plot(a,P,'r*')"
   ]
  },
  {
   "cell_type": "markdown",
   "metadata": {},
   "source": [
    "# Help!  Where can I get help?\n",
    "In the olden days of basic, Pascal, fortran, c, etc. there was a nice short book that explained each command. Life was simple.  But...you had to write it all yourself.  In the case of Python there are soooo many packages that helpful people have already written, it's not possible to find help for everything in one place. \n",
    "\n",
    "If you haven't ever programmed before, human help will be the most helpful at first.  Your instructor is here for you!\n",
    "\n",
    "For the packages we'll be using, the jupyter notebook Help menu is a good place to start!  \n",
    "\n",
    "If you know the name of the command you want help with, try running the help command in a code cell e.g. \n",
    "  help(np.genfromtxt)\n",
    "\n",
    "If you know how to describe what you want to do, a Google search is usually a good bet.  "
   ]
  }
 ],
 "metadata": {
  "kernelspec": {
   "display_name": "Python 2",
   "language": "python",
   "name": "python2"
  },
  "language_info": {
   "codemirror_mode": {
    "name": "ipython",
    "version": 2
   },
   "file_extension": ".py",
   "mimetype": "text/x-python",
   "name": "python",
   "nbconvert_exporter": "python",
   "pygments_lexer": "ipython2",
   "version": "2.7.11"
  }
 },
 "nbformat": 4,
 "nbformat_minor": 2
}
