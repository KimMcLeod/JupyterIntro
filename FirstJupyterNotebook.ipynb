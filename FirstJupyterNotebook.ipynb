{
 "cells": [
  {
   "cell_type": "markdown",
   "metadata": {},
   "source": [
    "# Creating your first jupyter notebook"
   ]
  },
  {
   "cell_type": "markdown",
   "metadata": {},
   "source": [
    "\n",
    "Once you have Python installed, you can create your first jupyter notebook.  A jupyter notebook is a place where you can keep not only python code, but also output and helpful accompanying text to communicate your work to others...or your future self when you need to write up that scientific journal article based on your work!"
   ]
  },
  {
   "cell_type": "markdown",
   "metadata": {},
   "source": [
    "## Start jupyter\n",
    "If you have Anaconda: Launcher --> choose jupyter\n",
    "\n",
    "If you have Canopy: Tools --> Canopy Terminal --> type    jupyter notebook\n",
    "\n",
    "In either case your web browser should pop open and you should see your Home diretory."
   ]
  },
  {
   "cell_type": "markdown",
   "metadata": {},
   "source": [
    "## Create a new notebook \n",
    "New --> Python 2\n",
    "\n",
    "This will open a new tab containing a blank Untitled notebook. Go up top and give it a name!"
   ]
  },
  {
   "cell_type": "markdown",
   "metadata": {},
   "source": [
    "## Try writing some code!\n",
    "Your notebook will have a blank \"cell\" called In [ ].  Note on the toolbar that this block is designated as type 'Code' -- in this case, Python.  Try it out by following this example.  Type the code in the cell, then go up to the top and hit the Run button (looks like >|)."
   ]
  },
  {
   "cell_type": "code",
   "execution_count": 10,
   "metadata": {
    "collapsed": false,
    "scrolled": true
   },
   "outputs": [
    {
     "name": "stdout",
     "output_type": "stream",
     "text": [
      "Finally I am learning something useful!\n",
      "Finally I am learning something useful!\n",
      "Finally I am learning something useful!\n",
      "6.0  times  7.0  equals  42.0\n"
     ]
    }
   ],
   "source": [
    "# Print something a bunch of times\n",
    "n=3\n",
    "for i in range(n):\n",
    "    print('Finally I am learning something useful!')\n",
    "    \n",
    "x=6.0           \n",
    "y=7.0\n",
    "print x, \" times \", y, \" equals \", x*y"
   ]
  },
  {
   "cell_type": "markdown",
   "metadata": {},
   "source": [
    "The output appears right in your notebook.  Are you happy?  Are you even happier now?  Go up and change n to a bigger number and re-run the cell to see what happens."
   ]
  },
  {
   "cell_type": "markdown",
   "metadata": {},
   "source": [
    "## Explore numpy arrays and notice how your instructor is modeling good commenting\n",
    "Type in the code below and Run it to see what you learn.  You can also hit Run at various points as you go along."
   ]
  },
  {
   "cell_type": "code",
   "execution_count": 7,
   "metadata": {
    "collapsed": false
   },
   "outputs": [
    {
     "name": "stdout",
     "output_type": "stream",
     "text": [
      "[0 1 2 3 4 5 6 7 8 9]\n",
      "[100 120 140 160 180]\n",
      "The 0th element of b is 100\n",
      "The 3rd element of b is 160\n",
      "c =  [ 0.    0.05  0.1   0.15  0.2   0.25  0.3   0.35  0.4   0.45  0.5   0.55\n",
      "  0.6   0.65  0.7   0.75  0.8   0.85  0.9   0.95]\n"
     ]
    },
    {
     "data": {
      "text/plain": [
       "<matplotlib.text.Text at 0x112736490>"
      ]
     },
     "execution_count": 7,
     "metadata": {},
     "output_type": "execute_result"
    },
    {
     "data": {
      "image/png": "[encoded data removed]",
      "text/plain": [
       "<matplotlib.figure.Figure at 0x1065ce790>"
      ]
     },
     "metadata": {},
     "output_type": "display_data"
    }
   ],
   "source": [
    "# Import the packages that we will almost always need, giving some of them nicknames for easier typing\n",
    "import numpy as np\n",
    "import matplotlib\n",
    "import matplotlib.pyplot as plt\n",
    "\n",
    "# Show plots right in the notebook\n",
    "%matplotlib inline\n",
    "    \n",
    "# Define some numpy arrays and explore what they look like\n",
    "a = np.arange(10)\n",
    "print a\n",
    "\n",
    "b = np.arange(100,200,20)\n",
    "print b\n",
    "print 'The 0th element of b is',b[0]\n",
    "print 'The 3rd element of b is',b[3]      \n",
    "\n",
    "# linspace(start, stop, num=50, endpoint=True, retstep=False, dtype=None)\n",
    "c = np.linspace(0.0, 1.0, num=20, endpoint=False, retstep=False, dtype=float)\n",
    "print \"c = \",c\n",
    "\n",
    "# define a function and make a graph!\n",
    "def cubeit(x):\n",
    "    return (x**3)\n",
    "\n",
    "plt.plot(a, cubeit(a))\n",
    "plt.xlabel(\"a\")\n",
    "plt.ylabel(\"a**3\")\n",
    "plt.title(\"My first awesome graph\")\n"
   ]
  },
  {
   "cell_type": "markdown",
   "metadata": {},
   "source": [
    "## Learn how to use a \"markdown\" cell\n",
    "If you want to add explanations to your notebook, click in a blank cell and change its type from 'Code' to 'Markdown' using the chooser at the top.  Then try typing in a sentence, and hit 'Run'.  You can always click in the cell again to edit.\n",
    "\n",
    "If you want to add headings to your markdown, use # at the beginning of the line.  You need a space after the # and before your heading. One # is a \n",
    "# huge heading\n",
    "two is a \n",
    "## smaller one\n",
    "three ...  try and see."
   ]
  },
  {
   "cell_type": "markdown",
   "metadata": {},
   "source": [
    "## Learn how to read in a data file\n",
    "Download the file....."
   ]
  },
  {
   "cell_type": "code",
   "execution_count": null,
   "metadata": {
    "collapsed": true
   },
   "outputs": [],
   "source": []
  }
 ],
 "metadata": {
  "kernelspec": {
   "display_name": "Python 2",
   "language": "python",
   "name": "python2"
  },
  "language_info": {
   "codemirror_mode": {
    "name": "ipython",
    "version": 2
   },
   "file_extension": ".py",
   "mimetype": "text/x-python",
   "name": "python",
   "nbconvert_exporter": "python",
   "pygments_lexer": "ipython2",
   "version": "2.7.11"
  }
 },
 "nbformat": 4,
 "nbformat_minor": 2
}
