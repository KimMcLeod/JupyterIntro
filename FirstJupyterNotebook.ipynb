{
 "cells": [
  {
   "cell_type": "markdown",
   "metadata": {},
   "source": [
    "# Creating your first jupyter notebook for SCIENCE\n",
    "Once you have Python installed, you can create your first jupyter notebook.  A jupyter notebook is a place where you can keep not only python code, but also output and helpful accompanying text to communicate your work to others...or your future self when you need to write up that scientific journal article based on your work!"
   ]
  },
  {
   "cell_type": "markdown",
   "metadata": {},
   "source": [
    "## Start jupyter\n",
    "If you have Anaconda: Launcher --> choose jupyter\n",
    "\n",
    "If you have Canopy: Tools --> Canopy Terminal --> type    jupyter notebook\n",
    "\n",
    "In either case your web browser should pop open and you should see your Home diretory."
   ]
  },
  {
   "cell_type": "markdown",
   "metadata": {},
   "source": [
    "## Create a new notebook \n",
    "New --> Python 2\n",
    "\n",
    "This will open a new tab containing a blank Untitled notebook. Go up top and give it a real name!"
   ]
  },
  {
   "cell_type": "markdown",
   "metadata": {},
   "source": [
    "## Try writing some code!\n",
    "Your notebook will have a blank \"cell\" called In [ ].  Note on the toolbar that this cell is designated as type 'Code' -- in this case, Python.  Try it out by following this example.  Type the code in the cell, then go up to the top and hit the Run button (looks like >|).\n",
    "At this point it's a good idea to save your notebook.  Do so, and look to see where it was saved."
   ]
  },
  {
   "cell_type": "code",
   "execution_count": null,
   "metadata": {
    "collapsed": false,
    "scrolled": true
   },
   "outputs": [],
   "source": [
    "# my first code!\n",
    "\n",
    "x=6.0           \n",
    "y=7.0\n",
    "print x, \" * \", y, \" = \", x*y\n",
    "\n",
    "n=3\n",
    "for i in range(n):\n",
    "    print('Finally I learned something useful in ASTR class!')\n",
    "    "
   ]
  },
  {
   "cell_type": "markdown",
   "metadata": {},
   "source": [
    "The output appears right in your notebook.  Are you happy?  Are you even happier now?  Go up and change n to a bigger number and re-run the cell to see what happens."
   ]
  },
  {
   "cell_type": "markdown",
   "metadata": {},
   "source": [
    "## Use a code cell as a handy calculator\n",
    "Insert a new cell of type 'Code' then in it you can do calculations right there...try this and then run the cell."
   ]
  },
  {
   "cell_type": "code",
   "execution_count": null,
   "metadata": {
    "collapsed": false
   },
   "outputs": [],
   "source": [
    "2./5"
   ]
  },
  {
   "cell_type": "markdown",
   "metadata": {},
   "source": [
    "## Learn how to use a \"markdown\" cell\n",
    "If you want to add explanations to your notebook, click in a blank cell and change its type from 'Code' to 'Markdown' using the chooser at the top.  Then try typing in a sentence, and hit 'Run'.  You can always click in the cell again to edit.\n",
    "\n",
    "If you want to add headings to your markdown, use # at the beginning of the line.  You need a space after the # and before your heading. One # is a huge heading, two ## is a smaller one, and so forth.\n",
    "\n",
    "Markdown cells are where you will be explaining what you're doing to the reader of your notebook!"
   ]
  },
  {
   "cell_type": "markdown",
   "metadata": {},
   "source": [
    "## Explore numpy arrays and notice how your instructor is modeling good commenting\n",
    "Start a new code cell.  Type in the code below and Run it to see what you learn.  You can also hit Run at various points as you go along--try it after you add each print statement and study what happens."
   ]
  },
  {
   "cell_type": "code",
   "execution_count": null,
   "metadata": {
    "collapsed": false
   },
   "outputs": [],
   "source": [
    "# import numpy to let us use arrays and give it a nickname\n",
    "import numpy as np\n",
    "\n",
    "# make an array filled with zeros\n",
    "boring = np.zeros(5)                \n",
    "print \"here is a boring array \",boring\n",
    "\n",
    "# numpy.arange([start, ]stop, [step, ]dtype=None)\n",
    "a = np.arange(10)\n",
    "af = np.arange(10,dtype=float)\n",
    "print \"a =\",a, \"is an integer array\"\n",
    "print \"af =\",af, \"is a float array\"\n",
    "print \"sin(af)=\", np.sin(af)              # example of doing math on an array\n",
    "\n",
    "b = np.arange(100,200,20)\n",
    "print \"b =\",b\n",
    "print 'The 4th element of b is',b[3]      # not a mistake! \"python arrays are zero-based\"\n",
    "\n",
    "# numpy.linspace(start, stop, num=50, endpoint=True, retstep=False, dtype=None)\n",
    "c = np.linspace(0.0, 1.0, num=20, endpoint=False, retstep=False, dtype=float)\n",
    "print \"c = \",c\n",
    "\n",
    "# example of a 2-d array\n",
    "bigarray = np.array([a,a**2,a**3])\n",
    "print \"bigarray =\",bigarray\n",
    "print \"bigarray[2]=\",bigarray[2]\n"
   ]
  },
  {
   "cell_type": "markdown",
   "metadata": {},
   "source": [
    "## Make your first plot!\n",
    "Make a new code cell.  This code cell assumes that you have already run the array code cell, so np is already imported.  Again, you can run whenever you want as you go along."
   ]
  },
  {
   "cell_type": "code",
   "execution_count": null,
   "metadata": {
    "collapsed": false
   },
   "outputs": [],
   "source": [
    "# import the packages for all kinds of great mathy stuff and plotting, give the plotting one a nickname\n",
    "import matplotlib\n",
    "import matplotlib.pyplot as plt\n",
    "\n",
    "# show plots right in the jupyter notebook (comment out when you run your code in iPython)\n",
    "%matplotlib inline\n",
    "\n",
    "\n",
    "# define a function and make a graph!\n",
    "def cubeit(x):\n",
    "    return (x**3)\n",
    "\n",
    "a=np.arange(0,1,0.1,dtype=float)\n",
    "\n",
    "plt.plot(a, cubeit(a))\n",
    "plt.xlabel(\"a\")\n",
    "plt.ylabel(\"a bunch of functions of a\")\n",
    "plt.title(\"My first awesome graph\")\n",
    "\n",
    "plt.plot(a,a,\"r*\",label=\"a\")\n",
    "\n",
    "plt.plot(a,a**2,\"g--\",label=\"a squared\")\n",
    "\n",
    "plt.legend(loc=\"upper left\")"
   ]
  },
  {
   "cell_type": "markdown",
   "metadata": {},
   "source": [
    "## Learn how to read a data file\n",
    "Download the file https://www.dropbox.com/s/w0ssqvtocuuwv4j/sample_table.txt?dl=0 to your computer. This example assumes the file ended up being called  \n",
    "    /Users/kmcleod/Downloads/sample_table.txt where /Users/kmcleod/Downloads is the \"path\" to the file.  \n",
    "You'll have to put your own path in the code below.  Start a new code cell and follow along.\n",
    "\n",
    "NOTE: take a look at the data file on your computer.  It has 4 \"header\" lines with a # symbol at the beginning.  The header tells where the data came from and what the columns mean.  It's a Really Good idea to put information like this in a header."
   ]
  },
  {
   "cell_type": "code",
   "execution_count": null,
   "metadata": {
    "collapsed": false
   },
   "outputs": [],
   "source": [
    "mydata = np.genfromtxt(\"/Users/kmcleod/Downloads/sample_table.txt\", unpack=True)\n",
    "print mydata\n",
    "a = mydata[0]\n",
    "P = mydata[3]\n",
    "plt.plot(a,P,'r*')"
   ]
  },
  {
   "cell_type": "markdown",
   "metadata": {},
   "source": [
    "# Help!  Where can I get help?\n",
    "In the olden days of basic, Pascal, fortran, c, etc. there was a nice short book that explained each command. Life was simple.  But...you had to write it all yourself.  In the case of Python there are soooo many packages that helpful people have already written, it's not possible to find help for everything in one place. \n",
    "\n",
    "If you haven't ever programmed before, human help will be the most helpful at first.  Your instructor is here for you!\n",
    "\n",
    "For the packages we'll be using, the jupyter notebook Help menu is a good place to start!  \n",
    "\n",
    "If you know the name of the command you want help with, try running the help command in a code cell e.g. \n",
    "  help(np.genfromtxt)\n",
    "\n",
    "If you know how to describe what you want to do, a Google search is usually a good bet.  "
   ]
  }
 ],
 "metadata": {
  "kernelspec": {
   "display_name": "Python 2",
   "language": "python",
   "name": "python2"
  },
  "language_info": {
   "codemirror_mode": {
    "name": "ipython",
    "version": 2
   },
   "file_extension": ".py",
   "mimetype": "text/x-python",
   "name": "python",
   "nbconvert_exporter": "python",
   "pygments_lexer": "ipython2",
   "version": "2.7.11"
  }
 },
 "nbformat": 4,
 "nbformat_minor": 2
}
