{
 "cells": [
  {
   "cell_type": "markdown",
   "metadata": {},
   "source": [
    "# Milky Way Monster\n",
    "In this assignment you will use a recent set of data to investigate the mystery of what lurks in the center of the Milky Way Galaxy.  Along the way you will:\n",
    "\n",
    "-- make use of Kepler's laws, the circular velocity formula, and the small angle formula\n",
    "\n",
    "-- get practice with conversions to astronomical units\n",
    "\n",
    "-- write your first astronomical Python code\n",
    "\n",
    "-- communicate your work in the form of a well-crafted jupyter notebook that would be intelligible to someone in ASTR 101\n",
    "\n",
    "## What you will need\n",
    "0) these instructions as a roadmap\n",
    "\n",
    "1) the text file https://www.dropbox.com/s/w0ssqvtocuuwv4j/sample_table.txt?dl=0, which contains data from Table 3 of Gillessen et al. 2016 (if you want to see the paper, look for it at https://arxiv.org/abs/1611.09144).  (You should already have the data table on your computer from our exercise in class!)\n",
    "\n",
    "The data file contains data for a few dozen stars that are orbiting the Galactic Center (GC).  The first column (which of course is called 0) contains the semimajor axis a of the star's orbit in arsec as seen from Earth, while the third column (which of course is not called 3 but rather ____) contains the orbital period in years.\n",
    "\n",
    "2) the distance to the Galactic Center, called R0, which we will take as R0=8.32 kpc\n",
    "\n",
    "3) time (give yourself plenty)\n",
    "\n",
    "4) the good habit of saving your file often!\n",
    "\n"
   ]
  },
  {
   "cell_type": "markdown",
   "metadata": {},
   "source": [
    "## Milky Way Monster jupyter notebook\n",
    "### Begin with a markdown cell\n",
    "Yourname here\n",
    "\n",
    "Date here \n",
    "\n",
    "Here goes a description of your goals, sources of data, and methods.  Probably you'll want to add this when you know what you did!"
   ]
  },
  {
   "cell_type": "markdown",
   "metadata": {},
   "source": [
    "### Next add a big code cell where you start, read data, do calculations"
   ]
  },
  {
   "cell_type": "code",
   "execution_count": null,
   "metadata": {
    "collapsed": false
   },
   "outputs": [],
   "source": [
    "# Do your imports and set up to plot in the notebook\n",
    "import math\n",
    "import numpy as np\n",
    "import matplotlib\n",
    "import matplotlib.pyplot as plt\n",
    "%matplotlib inline\n",
    "    \n",
    "# Assign some constants to make your code readable\n",
    "\"\"\"\n",
    "Add code here\n",
    "    make a variable R0_kpc = 8.32     # Galactic Center   (note that the name gives the units)\n",
    "    make a variable au_per_pc = 206265\n",
    "    make a variable s_per_yr = 3.14e7\n",
    "    when you need to add other nice constants or conversions later gather them here \n",
    "    (don't forget to rerun the cell if you do so the new constants will take hold in subsequent cells)\n",
    "\"\"\"\n",
    "\n",
    "# Read in the data table and make arrays in nice astronomy units\n",
    "data=np.genfromtxt(\"/YOURPATHNAME/sample_table.txt\", unpack=True)       # put in YOUR path here!\n",
    "\n",
    "\"\"\"\n",
    "Add code here \n",
    "    From data, make an array called a_arcsec and one called P_yr \n",
    "    \n",
    "    Then, make a new one called a_au that contains the semimajor axes in au\n",
    "        Hint: you'll have to convert from arcsec to au...\n",
    "        this will take some thought along with paper, pencil, and a skinny triangle drawing\n",
    "        \n",
    "    Make a new array called vcirc_kms that contains the circular velocities in km/s for the stars \n",
    "    computed from a and P\n",
    "        Hint: to calculate v for a circle from a and P, math.pi will be helpful\n",
    "        \n",
    "    Make a new array called Mbeast_Msun that contains the mass implied by each star's orbital properties, \n",
    "    in units of Msun.  \n",
    "        You could use either the appropriate KIII or the appropriate circular velocity formula here.  \n",
    "        Be slick and use a nondimensionalized one and you'll never have to do explicit \n",
    "        conversions involving kg, m, etc!\n",
    "\"\"\""
   ]
  },
  {
   "cell_type": "markdown",
   "metadata": {},
   "source": [
    "### It's a good idea to run code cells and print variables to see if you're on track.\n",
    "Run your code cell above.  You might also add a code cell below that you can use for testing.  You might run and print some of the variables to see if they make sense.  For example, you might print a_au and check it against the data file.  You might test out little snippets of code here before you incorporate them above in the \"real\" code cell. "
   ]
  },
  {
   "cell_type": "markdown",
   "metadata": {},
   "source": [
    "### Next come more code cells and markdown cells with plots and interpretation\n",
    "Put the code for each plot in a separate cell and run the cell to generate the plot right in your notebook.  \n",
    "    Follow each plot with a markdown cell that interprets the plot.  \n",
    "    Make sure all plots are nicely labeled.\n",
    "\n",
    "    \n",
    "    a_au**3 versus P_yr**2  (test out KIII!)\n",
    "    \n",
    "    a_au versus vcirc_kms  (test out Keplerian rotation!)\n",
    "    \n",
    "    a_au versus Mbeast_Msun  (do all the stars give you the same mass for the thing in the middle?)\n",
    "    \n",
    "    any other plots you want to explore!\n"
   ]
  },
  {
   "cell_type": "code",
   "execution_count": null,
   "metadata": {
    "collapsed": false,
    "scrolled": true
   },
   "outputs": [],
   "source": [
    "# Code cell for some plots with interpretation\n"
   ]
  },
  {
   "cell_type": "markdown",
   "metadata": {},
   "source": [
    "Interpretation of above plot"
   ]
  },
  {
   "cell_type": "markdown",
   "metadata": {},
   "source": [
    "### Analysis: mystery solved\n",
    "Finally, add a code cell and a markdown cell to answer the question about what the monster might be via these questions.\n",
    "\n",
    "--What is the average beast mass?  (Hint: np.average(Mbeast_Msun))\n",
    "\n",
    "--What is the smallest semimajor axis among the stars observed?  (Hint: np.min(a_au))\n",
    "\n",
    "--How does that compare to the distance between the Sun and the nearest star, Proxima Centauri, which is 4LY (a little more than 1pc) away?\n",
    "\n",
    "--Tidy up by synthesizing your answer about what the beast likely is.\n",
    "\n",
    "--Challenges (optional): \n",
    "\n",
    "    plot a the theoretical Keplerian rotation curve for the Mass you found on top of the a_au versus vcirc_kms data\n",
    "    \n",
    "    plot the errobars on the mass plot (look for help on matplotlib.pyplot.errorbar)\n",
    "    \n",
    "    compare your results to the ones in the original paper"
   ]
  },
  {
   "cell_type": "markdown",
   "metadata": {
    "collapsed": true
   },
   "source": [
    "## Saving and turning in your jupyter notebook\n",
    "When your notebook is all cleaned up and ready to turn in\n",
    "\n",
    "### ... save it\n",
    "Click the icon representing an old time 3.5 inch floppy disk.\n",
    "\n",
    "### ...download it\n",
    "use File --> Download as --> Notebook (ipynb)\n",
    "\n",
    "### ...shut down jupyter\n",
    "To close your notebook, do File-->Close and Halt. Closing your web browser does NOT shut down jupyter. To do it, close the terminal/command line window that opened when you launched jupyter.\n",
    "\n",
    "### ...turn in your ipynb by uploading it to our Google Drive Monster folder\n"
   ]
  },
  {
   "cell_type": "code",
   "execution_count": null,
   "metadata": {
    "collapsed": true
   },
   "outputs": [],
   "source": []
  }
 ],
 "metadata": {
  "kernelspec": {
   "display_name": "Python 2",
   "language": "python",
   "name": "python2"
  },
  "language_info": {
   "codemirror_mode": {
    "name": "ipython",
    "version": 2
   },
   "file_extension": ".py",
   "mimetype": "text/x-python",
   "name": "python",
   "nbconvert_exporter": "python",
   "pygments_lexer": "ipython2",
   "version": "2.7.11"
  }
 },
 "nbformat": 4,
 "nbformat_minor": 2
}
